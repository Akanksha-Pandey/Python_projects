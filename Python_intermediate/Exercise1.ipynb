{
 "cells": [
  {
   "cell_type": "markdown",
   "metadata": {},
   "source": [
    "# Python for Biologist\n",
    "## Chapter 1 Exercises"
   ]
  },
  {
   "cell_type": "markdown",
   "metadata": {},
   "source": [
    "### Calculating AT content\n",
    "Here's a short DNA sequence:\n",
    "ACTGATCGATTACGTATAGTATTTGCTATCATACATATATATCGATGCGTTCAT\n",
    "Write a program that will print out the AT content of this DNA sequence. Hint: you\n",
    "can use normal mathematical symbols like add (+), subtract (-), multiply (*), divide\n",
    "(/) and parentheses to carry out calculations on numbers in Python."
   ]
  },
  {
   "cell_type": "code",
   "execution_count": 4,
   "metadata": {},
   "outputs": [
    {
     "name": "stdout",
     "output_type": "stream",
     "text": [
      "The total AT content is 37\n"
     ]
    }
   ],
   "source": [
    "DNA = \"ACTGATCGATTACGTATAGTATTTGCTATCATACATATATATCGATGCGTTCAT\"\n",
    "count_A = DNA.count(\"A\")\n",
    "count_T = DNA.count(\"T\")\n",
    "total_AT = count_A + count_T\n",
    "print(\"The total AT content is \" + str(total_AT))"
   ]
  },
  {
   "cell_type": "markdown",
   "metadata": {},
   "source": [
    "### Complementing DNA\n",
    "Here's a short DNA sequence:\n",
    "ACTGATCGATTACGTATAGTATTTGCTATCATACATATATATCGATGCGTTCAT\n",
    "Write a program that will print the complement of this sequence."
   ]
  },
  {
   "cell_type": "code",
   "execution_count": 12,
   "metadata": {},
   "outputs": [
    {
     "name": "stdout",
     "output_type": "stream",
     "text": [
      "ACTGATCGATTACGTATAGTATTTGCTATCATACATATATATCGATGCGTTCAT\n",
      "tCTGtTCGtTTtCGTtTtGTtTTTGCTtTCtTtCtTtTtTtTCGtTGCGTTCtT\n",
      "tgTGtTgGtTTtgGTtTtGTtTTTGgTtTgtTtgtTtTtTtTgGtTGgGTTgtT\n",
      "tgaGtagGtaatgGatatGataaaGgatagtatgtatatatagGtaGgGaagta\n",
      "tgactagctaatgcatatcataaacgatagtatgtatatatagctacgcaagta\n"
     ]
    }
   ],
   "source": [
    "print(DNA)\n",
    "temp1 = DNA.replace(\"A\",\"t\")\n",
    "print(temp1)\n",
    "temp2 = temp1.replace(\"C\",\"g\")\n",
    "print(temp2)\n",
    "temp3 = temp2.replace(\"T\",\"a\")\n",
    "print(temp3)\n",
    "temp4 = temp3.replace(\"G\",\"c\")\n",
    "print(temp4)"
   ]
  },
  {
   "cell_type": "markdown",
   "metadata": {},
   "source": [
    "### Restriction fragment lengths\n",
    "Here's a short DNA sequence:\n",
    "ACTGATCGATTACGTATAGTAGAATTCTATCATACATATATATCGATGCGTTCAT\n",
    "The sequence contains a recognition site for the EcoRI restriction enzyme, which\n",
    "cuts at the motif G*AATTC (the position of the cut is indicated by an asterisk).\n",
    "Write a program which will calculate the size of the two fragments that will be\n",
    "produced when the DNA sequence is digested with EcoRI."
   ]
  },
  {
   "cell_type": "code",
   "execution_count": 18,
   "metadata": {},
   "outputs": [
    {
     "name": "stdout",
     "output_type": "stream",
     "text": [
      "22 33\n"
     ]
    }
   ],
   "source": [
    "DNA = \"ACTGATCGATTACGTATAGTAGAATTCTATCATACATATATATCGATGCGTTCAT\"\n",
    "frag_length1 = DNA.find(\"GAATTC\") + 1\n",
    "frag_length2 = len(DNA) - frag_length1\n",
    "print(frag_length1,frag_length2)\n"
   ]
  },
  {
   "cell_type": "markdown",
   "metadata": {},
   "source": [
    "### Splicing out introns, part one\n",
    "Here's a short section of genomic DNA:\n",
    "ATCGATCGATCGATCGACTGACTAGTCATAGCTATGCATGTAGCTACTCGATCGATCGA\n",
    "TCGATCGATCGATCGATCGATCGATCATGCTATCATCGATCGATATCGATGCATCGACT\n",
    "ACTAT\n",
    "It comprises two exons and an intron. The first exon runs from the start of the\n",
    "sequence to the sixty-third character, and the second exon runs from the ninetyfirst\n",
    "character to the end of the sequence. Write a program that will print just the\n",
    "coding regions of the DNA sequence."
   ]
  },
  {
   "cell_type": "code",
   "execution_count": 20,
   "metadata": {},
   "outputs": [
    {
     "name": "stdout",
     "output_type": "stream",
     "text": [
      "ATCGATCGATCGATCGACTGACTAGTCATAGCTATGCATGTAGCTACTCGATCGATCGATCG\n",
      "ATCATCGATCGATATCGATGCATCGACTACTAT\n"
     ]
    }
   ],
   "source": [
    "DNA = \"ATCGATCGATCGATCGACTGACTAGTCATAGCTATGCATGTAGCTACTCGATCGATCGATCGATCGATCGATCGATCGATCGATCATGCTATCATCGATCGATATCGATGCATCGACTACTAT\"\n",
    "exon1 = DNA[:62]\n",
    "exon2 = DNA[90:]\n",
    "print(exon1)\n",
    "print(exon2)"
   ]
  },
  {
   "cell_type": "markdown",
   "metadata": {},
   "source": [
    "### Splicing out introns, part two\n",
    "Using the data from part one, write a program that will calculate what percentage\n",
    "of the DNA sequence is coding."
   ]
  },
  {
   "cell_type": "code",
   "execution_count": 21,
   "metadata": {},
   "outputs": [
    {
     "name": "stdout",
     "output_type": "stream",
     "text": [
      "77.23577235772358\n"
     ]
    }
   ],
   "source": [
    "coding_per = ((len(exon1)+len(exon2))/len(DNA))*100\n",
    "print(coding_per)"
   ]
  },
  {
   "cell_type": "markdown",
   "metadata": {},
   "source": [
    "### Splicing out introns, part three\n",
    "Using the data from part one, write a program that will print out the original\n",
    "genomic DNA sequence with coding bases in uppercase and non-coding bases in\n",
    "lowercase."
   ]
  },
  {
   "cell_type": "code",
   "execution_count": 22,
   "metadata": {},
   "outputs": [
    {
     "name": "stdout",
     "output_type": "stream",
     "text": [
      "ATCGATCGATCGATCGACTGACTAGTCATAGCTATGCATGTAGCTACTCGATCGATCGATCGatcgatcgatcgatcgatcgatcatgctATCATCGATCGATATCGATGCATCGACTACTAT\n"
     ]
    }
   ],
   "source": [
    "exon1 = DNA[:62]\n",
    "intron = DNA[62:90]\n",
    "exon2 = DNA[90:]\n",
    "print(exon1 + intron.lower() + exon2)"
   ]
  },
  {
   "cell_type": "code",
   "execution_count": null,
   "metadata": {},
   "outputs": [],
   "source": []
  }
 ],
 "metadata": {
  "kernelspec": {
   "display_name": "Python 3",
   "language": "python",
   "name": "python3"
  },
  "language_info": {
   "codemirror_mode": {
    "name": "ipython",
    "version": 3
   },
   "file_extension": ".py",
   "mimetype": "text/x-python",
   "name": "python",
   "nbconvert_exporter": "python",
   "pygments_lexer": "ipython3",
   "version": "3.6.5"
  }
 },
 "nbformat": 4,
 "nbformat_minor": 2
}

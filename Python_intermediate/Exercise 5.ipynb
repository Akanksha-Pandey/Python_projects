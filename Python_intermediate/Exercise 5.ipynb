{
 "cells": [
  {
   "cell_type": "markdown",
   "metadata": {},
   "source": [
    "# Conditional Statements"
   ]
  },
  {
   "cell_type": "code",
   "execution_count": 1,
   "metadata": {},
   "outputs": [
    {
     "name": "stdout",
     "output_type": "stream",
     "text": [
      "False\n",
      "False\n",
      "True\n",
      "False\n",
      "True\n",
      "True\n",
      "False\n",
      "True\n",
      "False\n",
      "True\n"
     ]
    }
   ],
   "source": [
    "print(3 == 5)\n",
    "print(3 > 5)\n",
    "print(3 <=5)\n",
    "print(len(\"ATGC\") > 5)\n",
    "print(\"GAATTC\".count(\"T\") > 1)\n",
    "print(\"ATGCTT\".startswith(\"ATG\"))\n",
    "print(\"ATGCTT\".endswith(\"TTT\"))\n",
    "print(\"ATGCTT\".isupper())\n",
    "print(\"ATGCTT\".islower())\n",
    "print(\"V\" in [\"V\", \"W\", \"L\"])"
   ]
  },
  {
   "cell_type": "code",
   "execution_count": 2,
   "metadata": {},
   "outputs": [
    {
     "name": "stdout",
     "output_type": "stream",
     "text": [
      "ab56\n",
      "ay93\n",
      "ap97\n"
     ]
    }
   ],
   "source": [
    "accs = ['ab56', 'bh84', 'hv76', 'ay93', 'ap97', 'bd72']\n",
    "for accession in accs:\n",
    "    if accession.startswith('a'):\n",
    "        print(accession)"
   ]
  },
  {
   "cell_type": "code",
   "execution_count": 3,
   "metadata": {},
   "outputs": [],
   "source": [
    "file1 = open(\"one.txt\", \"w\")\n",
    "file2 = open(\"two.txt\", \"w\")\n",
    "accs = ['ab56', 'bh84', 'hv76', 'ay93', 'ap97', 'bd72']\n",
    "for accession in accs:\n",
    "    if accession.startswith('a'):\n",
    "        file1.write(accession + \"\\n\")\n",
    "    else:\n",
    "        file2.write(accession + \"\\n\")"
   ]
  },
  {
   "cell_type": "code",
   "execution_count": 4,
   "metadata": {},
   "outputs": [
    {
     "name": "stdout",
     "output_type": "stream",
     "text": [
      "0\n",
      "1\n",
      "2\n",
      "3\n",
      "4\n",
      "5\n",
      "6\n",
      "7\n",
      "8\n",
      "9\n"
     ]
    }
   ],
   "source": [
    "count = 0\n",
    "while count<10:\n",
    "    print(count)\n",
    "    count = count + 1"
   ]
  },
  {
   "cell_type": "code",
   "execution_count": 5,
   "metadata": {},
   "outputs": [
    {
     "name": "stdout",
     "output_type": "stream",
     "text": [
      "ay93\n"
     ]
    }
   ],
   "source": [
    "accs = ['ab56', 'bh84', 'hv76', 'ay93', 'ap97', 'bd72']\n",
    "for accession in accs:\n",
    "    if accession.startswith('a') and accession.endswith('3'):\n",
    "        print(accession)"
   ]
  },
  {
   "cell_type": "code",
   "execution_count": 6,
   "metadata": {},
   "outputs": [
    {
     "name": "stdout",
     "output_type": "stream",
     "text": [
      "bh84\n"
     ]
    }
   ],
   "source": [
    "accs = ['ab56', 'bh84', 'hv76', 'ay93', 'ap97', 'bd72']\n",
    "for acc in accs:\n",
    "    if (acc.startswith('a') or acc.startswith('b')) and acc.endswith('4'):\n",
    "        print(acc)"
   ]
  },
  {
   "cell_type": "code",
   "execution_count": 7,
   "metadata": {},
   "outputs": [],
   "source": [
    "def is_at_rich(dna): # A function can be a boolean function and return true or false\n",
    "    length = len(dna)\n",
    "    a_count = dna.upper().count('A')\n",
    "    t_count = dna.upper().count('T')\n",
    "    at_content = (a_count + t_count) / length\n",
    "    if at_content > 0.65:\n",
    "        return True\n",
    "    else:\n",
    "        return False"
   ]
  },
  {
   "cell_type": "code",
   "execution_count": 8,
   "metadata": {},
   "outputs": [
    {
     "name": "stdout",
     "output_type": "stream",
     "text": [
      "True\n"
     ]
    }
   ],
   "source": [
    "print(is_at_rich(\"ATTATCTACTA\"))"
   ]
  },
  {
   "cell_type": "code",
   "execution_count": 17,
   "metadata": {},
   "outputs": [],
   "source": [
    "def get_at_content(dna):\n",
    "    length = len(dna)\n",
    "    a_count = dna.upper().count('A')\n",
    "    t_count = dna.upper().count('T')\n",
    "    at_content = (a_count + t_count) / length\n",
    "    return at_content"
   ]
  },
  {
   "cell_type": "markdown",
   "metadata": {},
   "source": [
    "### In the chapter_6 folder in the exercises download, \n",
    "\n",
    "you'll find a text file called data.csv, containing some made-up data for a number of genes. Each line contains\n",
    "the following fields for a single gene in this order: species name, sequence, gene\n",
    "name, expression level. The fields are separated by commas (hence the name of the\n",
    "file – csv stands for Comma Separated Values). Think of it as a representation of a\n",
    "table in a spreadsheet – each line is a row, and each field in a line is a column. All\n",
    "the exercises for this chapter use the data read from this file.\n",
    "### Several species\n",
    "Print out the gene names for all genes belonging to Drosophila melanogaster or\n",
    "Drosophila simulans.\n",
    "### Length range\n",
    "Print out the gene names for all genes between 90 and 110 bases long.\n",
    "### AT content\n",
    "Print out the gene names for all genes whose AT content is less than 0.5 and whose\n",
    "expression level is greater than 200.\n",
    "### Complex condition\n",
    "Print out the gene names for all genes whose name begins with \"k\" or \"h\" except\n",
    "those belonging to Drosophila melanogaster.\n",
    "### High low medium\n",
    "For each gene, print out a message giving the gene name and saying whether its AT\n",
    "content is high (greater than 0.65), low (less than 0.45) or medium (between 0.45\n",
    "and 0.65)."
   ]
  },
  {
   "cell_type": "code",
   "execution_count": 22,
   "metadata": {},
   "outputs": [
    {
     "name": "stdout",
     "output_type": "stream",
     "text": [
      "kdy647 has high AT content\n",
      "jdg766 has medium AT content\n",
      "kdy533 has medium AT content\n",
      "hdt739 has low AT content\n",
      "hdu045 has medium AT content\n",
      "teg436 has medium AT content\n"
     ]
    }
   ],
   "source": [
    "inputfile = open(\"data.csv\")\n",
    "species_name = []\n",
    "sequence = []\n",
    "gene_name = []\n",
    "expression_level = []\n",
    "for line in inputfile:\n",
    "    #print(line)\n",
    "    columns = line.rstrip('\\n').split(\",\")\n",
    "    species_name = (columns[0])\n",
    "    sequence = (columns[1])\n",
    "    gene_name = (columns[2])\n",
    "    expression_level = (columns[3])\n",
    "    #if species_name == \"Drosophila melanogaster\" or species_name == \"Drosophila simulans\":\n",
    "     #   print(gene_name)\n",
    "    #if len(sequence) > 90 and len(sequence) < 110:\n",
    "     #   print(gene_name)\n",
    "    #if get_at_content(sequence) < 0.5 and int(expression_level) > 200:\n",
    "     #   print(gene_name)\n",
    "    #if (species_name.startswith(\"k\") or species_name.startswith(\"h\")) and species_name != \"Drosophila melanogaster\":\n",
    "     #   print(gene_name)\n",
    "    if get_at_content(sequence) > 0.65:\n",
    "        print(gene_name + \" has high AT content\")\n",
    "    elif get_at_content(sequence) < 0.45:\n",
    "        print(gene_name + \" has low AT content\")\n",
    "    else:\n",
    "        print(gene_name + \" has medium AT content\")\n",
    "    "
   ]
  },
  {
   "cell_type": "code",
   "execution_count": null,
   "metadata": {},
   "outputs": [],
   "source": []
  },
  {
   "cell_type": "code",
   "execution_count": null,
   "metadata": {},
   "outputs": [],
   "source": []
  }
 ],
 "metadata": {
  "kernelspec": {
   "display_name": "Python 3",
   "language": "python",
   "name": "python3"
  },
  "language_info": {
   "codemirror_mode": {
    "name": "ipython",
    "version": 3
   },
   "file_extension": ".py",
   "mimetype": "text/x-python",
   "name": "python",
   "nbconvert_exporter": "python",
   "pygments_lexer": "ipython3",
   "version": "3.6.5"
  }
 },
 "nbformat": 4,
 "nbformat_minor": 2
}

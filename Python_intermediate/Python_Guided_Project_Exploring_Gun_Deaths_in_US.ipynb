{
 "cells": [
  {
   "cell_type": "markdown",
   "metadata": {},
   "source": [
    "# Exploring Gun deaths in the US"
   ]
  },
  {
   "cell_type": "markdown",
   "metadata": {},
   "source": [
    "### Dataset\n",
    "In this project I used a dataset put togather by FiveThirtyEight which can be found here(https://github.com/fivethirtyeight/guns-data). It contains information on gun deaths in the US from 2012 to 2014.\n",
    " "
   ]
  },
  {
   "cell_type": "code",
   "execution_count": 18,
   "metadata": {},
   "outputs": [],
   "source": [
    "import csv\n",
    "import datetime\n",
    "with open(\"guns.csv\", \"r\") as f:\n",
    "    data = list(csv.reader(f))\n",
    "    #data[:5]"
   ]
  },
  {
   "cell_type": "markdown",
   "metadata": {},
   "source": [
    "### Removing the header row"
   ]
  },
  {
   "cell_type": "code",
   "execution_count": 19,
   "metadata": {},
   "outputs": [
    {
     "name": "stdout",
     "output_type": "stream",
     "text": [
      "['', 'year', 'month', 'intent', 'police', 'sex', 'age', 'race', 'hispanic', 'place', 'education']\n"
     ]
    },
    {
     "data": {
      "text/plain": [
       "[['1',\n",
       "  '2012',\n",
       "  '01',\n",
       "  'Suicide',\n",
       "  '0',\n",
       "  'M',\n",
       "  '34',\n",
       "  'Asian/Pacific Islander',\n",
       "  '100',\n",
       "  'Home',\n",
       "  '4'],\n",
       " ['2', '2012', '01', 'Suicide', '0', 'F', '21', 'White', '100', 'Street', '3'],\n",
       " ['3',\n",
       "  '2012',\n",
       "  '01',\n",
       "  'Suicide',\n",
       "  '0',\n",
       "  'M',\n",
       "  '60',\n",
       "  'White',\n",
       "  '100',\n",
       "  'Other specified',\n",
       "  '4'],\n",
       " ['4', '2012', '02', 'Suicide', '0', 'M', '64', 'White', '100', 'Home', '4'],\n",
       " ['5',\n",
       "  '2012',\n",
       "  '02',\n",
       "  'Suicide',\n",
       "  '0',\n",
       "  'M',\n",
       "  '31',\n",
       "  'White',\n",
       "  '100',\n",
       "  'Other specified',\n",
       "  '2']]"
      ]
     },
     "execution_count": 19,
     "metadata": {},
     "output_type": "execute_result"
    }
   ],
   "source": [
    "headers =data[0]\n",
    "print(headers)\n",
    "data = data[1:]\n",
    "data[:5]"
   ]
  },
  {
   "cell_type": "markdown",
   "metadata": {},
   "source": [
    "### Counting Gun deaths by Year"
   ]
  },
  {
   "cell_type": "code",
   "execution_count": 13,
   "metadata": {},
   "outputs": [
    {
     "name": "stdout",
     "output_type": "stream",
     "text": [
      "{'2012': 33563, '2013': 33636, '2014': 33599}\n"
     ]
    }
   ],
   "source": [
    "years = [rows[1] for rows in data]\n",
    "year_counts = {}\n",
    "for year in years:\n",
    "    if year in year_counts:\n",
    "        year_counts[year] += 1\n",
    "    else:\n",
    "        year_counts[year] = 1\n",
    "print(year_counts)"
   ]
  },
  {
   "cell_type": "markdown",
   "metadata": {},
   "source": [
    "## Exploring Gun deaths by Month and Year"
   ]
  },
  {
   "cell_type": "code",
   "execution_count": 39,
   "metadata": {
    "scrolled": true
   },
   "outputs": [
    {
     "data": {
      "text/plain": [
       "[datetime.datetime(2012, 1, 1, 0, 0),\n",
       " datetime.datetime(2012, 1, 1, 0, 0),\n",
       " datetime.datetime(2012, 1, 1, 0, 0),\n",
       " datetime.datetime(2012, 2, 1, 0, 0),\n",
       " datetime.datetime(2012, 2, 1, 0, 0)]"
      ]
     },
     "execution_count": 39,
     "metadata": {},
     "output_type": "execute_result"
    }
   ],
   "source": [
    "dates = [datetime.datetime(year=int(row[1]), month=int(row[2]), day=1)for row in data]\n",
    "dates[:5]"
   ]
  },
  {
   "cell_type": "code",
   "execution_count": 40,
   "metadata": {},
   "outputs": [
    {
     "data": {
      "text/plain": [
       "{datetime.datetime(2012, 1, 1, 0, 0): 2758,\n",
       " datetime.datetime(2012, 2, 1, 0, 0): 2357,\n",
       " datetime.datetime(2012, 3, 1, 0, 0): 2743,\n",
       " datetime.datetime(2012, 4, 1, 0, 0): 2795,\n",
       " datetime.datetime(2012, 5, 1, 0, 0): 2999,\n",
       " datetime.datetime(2012, 6, 1, 0, 0): 2826,\n",
       " datetime.datetime(2012, 7, 1, 0, 0): 3026,\n",
       " datetime.datetime(2012, 8, 1, 0, 0): 2954,\n",
       " datetime.datetime(2012, 9, 1, 0, 0): 2852,\n",
       " datetime.datetime(2012, 10, 1, 0, 0): 2733,\n",
       " datetime.datetime(2012, 11, 1, 0, 0): 2729,\n",
       " datetime.datetime(2012, 12, 1, 0, 0): 2791,\n",
       " datetime.datetime(2013, 1, 1, 0, 0): 2864,\n",
       " datetime.datetime(2013, 2, 1, 0, 0): 2375,\n",
       " datetime.datetime(2013, 3, 1, 0, 0): 2862,\n",
       " datetime.datetime(2013, 4, 1, 0, 0): 2798,\n",
       " datetime.datetime(2013, 5, 1, 0, 0): 2806,\n",
       " datetime.datetime(2013, 6, 1, 0, 0): 2920,\n",
       " datetime.datetime(2013, 7, 1, 0, 0): 3079,\n",
       " datetime.datetime(2013, 8, 1, 0, 0): 2859,\n",
       " datetime.datetime(2013, 9, 1, 0, 0): 2742,\n",
       " datetime.datetime(2013, 10, 1, 0, 0): 2808,\n",
       " datetime.datetime(2013, 11, 1, 0, 0): 2758,\n",
       " datetime.datetime(2013, 12, 1, 0, 0): 2765,\n",
       " datetime.datetime(2014, 1, 1, 0, 0): 2651,\n",
       " datetime.datetime(2014, 2, 1, 0, 0): 2361,\n",
       " datetime.datetime(2014, 3, 1, 0, 0): 2684,\n",
       " datetime.datetime(2014, 4, 1, 0, 0): 2862,\n",
       " datetime.datetime(2014, 5, 1, 0, 0): 2864,\n",
       " datetime.datetime(2014, 6, 1, 0, 0): 2931,\n",
       " datetime.datetime(2014, 7, 1, 0, 0): 2884,\n",
       " datetime.datetime(2014, 8, 1, 0, 0): 2970,\n",
       " datetime.datetime(2014, 9, 1, 0, 0): 2914,\n",
       " datetime.datetime(2014, 10, 1, 0, 0): 2865,\n",
       " datetime.datetime(2014, 11, 1, 0, 0): 2756,\n",
       " datetime.datetime(2014, 12, 1, 0, 0): 2857}"
      ]
     },
     "execution_count": 40,
     "metadata": {},
     "output_type": "execute_result"
    }
   ],
   "source": [
    "date_counts = {}\n",
    "\n",
    "for date in dates:\n",
    "    if date not in date_counts:\n",
    "        date_counts[date] = 0\n",
    "    date_counts[date] += 1\n",
    "\n",
    "date_counts"
   ]
  },
  {
   "cell_type": "markdown",
   "metadata": {},
   "source": [
    "## Exploring Gun Deaths by Race and Sex"
   ]
  },
  {
   "cell_type": "code",
   "execution_count": 39,
   "metadata": {},
   "outputs": [
    {
     "name": "stdout",
     "output_type": "stream",
     "text": [
      "{'M': 86349, 'F': 14449}\n"
     ]
    },
    {
     "data": {
      "text/plain": [
       "{'Asian/Pacific Islander': 1326,\n",
       " 'White': 66237,\n",
       " 'Native American/Native Alaskan': 917,\n",
       " 'Black': 23296,\n",
       " 'Hispanic': 9022}"
      ]
     },
     "execution_count": 39,
     "metadata": {},
     "output_type": "execute_result"
    }
   ],
   "source": [
    "sexes = [rows[5] for rows in data]\n",
    "sex_counts = {}\n",
    "for item in sexes:\n",
    "    if item in sex_counts:\n",
    "        sex_counts[item] += 1\n",
    "    else:\n",
    "        sex_counts[item] = 1\n",
    "races = [rows[7] for rows in data]\n",
    "race_counts = {}\n",
    "for row in races:\n",
    "    if row in race_counts:\n",
    "        race_counts[row] += 1\n",
    "    else:\n",
    "        race_counts[row] = 1\n",
    "print(sex_counts)\n",
    "race_counts"
   ]
  },
  {
   "cell_type": "markdown",
   "metadata": {},
   "source": [
    "## Interpretations \n",
    "\n",
    "The above data shows that gun deaths in the US is disproportionately affected by the sex. They also seem to affect  the minorities although more data on the proportion of these minorities in the overall population will be useful. "
   ]
  },
  {
   "cell_type": "markdown",
   "metadata": {},
   "source": [
    "# Exploring consensus dataset"
   ]
  },
  {
   "cell_type": "code",
   "execution_count": 15,
   "metadata": {},
   "outputs": [
    {
     "data": {
      "text/plain": [
       "[['Id',\n",
       "  'Year',\n",
       "  'Id',\n",
       "  'Sex',\n",
       "  'Id',\n",
       "  'Hispanic Origin',\n",
       "  'Id',\n",
       "  'Id2',\n",
       "  'Geography',\n",
       "  'Total',\n",
       "  'Race Alone - White',\n",
       "  'Race Alone - Hispanic',\n",
       "  'Race Alone - Black or African American',\n",
       "  'Race Alone - American Indian and Alaska Native',\n",
       "  'Race Alone - Asian',\n",
       "  'Race Alone - Native Hawaiian and Other Pacific Islander',\n",
       "  'Two or More Races'],\n",
       " ['cen42010',\n",
       "  'April 1, 2010 Census',\n",
       "  'totsex',\n",
       "  'Both Sexes',\n",
       "  'tothisp',\n",
       "  'Total',\n",
       "  '0100000US',\n",
       "  '',\n",
       "  'United States',\n",
       "  '308745538',\n",
       "  '197318956',\n",
       "  '44618105',\n",
       "  '40250635',\n",
       "  '3739506',\n",
       "  '15159516',\n",
       "  '674625',\n",
       "  '6984195']]"
      ]
     },
     "execution_count": 15,
     "metadata": {},
     "output_type": "execute_result"
    }
   ],
   "source": [
    "with open(\"census.csv\",\"r\") as f_h:\n",
    "    census = list(csv.reader(f_h))\n",
    "census"
   ]
  },
  {
   "cell_type": "markdown",
   "metadata": {},
   "source": [
    "### Calculating rates of Gun death per Race"
   ]
  },
  {
   "cell_type": "code",
   "execution_count": 16,
   "metadata": {},
   "outputs": [
    {
     "data": {
      "text/plain": [
       "{'Asian/Pacific Islander': 8.374309664161762,\n",
       " 'White': 33.56849303419181,\n",
       " 'Native American/Native Alaskan': 24.521955573811088,\n",
       " 'Black': 57.8773477735196,\n",
       " 'Hispanic': 20.220491210910907}"
      ]
     },
     "execution_count": 16,
     "metadata": {},
     "output_type": "execute_result"
    }
   ],
   "source": [
    "mapping = {\"Asian/Pacific Islander\":15834141,\n",
    "           \"Black\":40250635, \n",
    "           \"Native American/Native Alaskan\":3739506,\n",
    "           \"Hispanic\": 44618105, \n",
    "           \"White\":197318956}\n",
    "\n",
    "race_per_hundredk = {}\n",
    "for item in race_counts:\n",
    "    new_item = (race_counts[item]/mapping[item])*100000\n",
    "    race_per_hundredk[item] = new_item\n",
    "\n",
    "race_per_hundredk\n",
    "    "
   ]
  },
  {
   "cell_type": "markdown",
   "metadata": {},
   "source": [
    "### Filtering by intent"
   ]
  },
  {
   "cell_type": "code",
   "execution_count": 24,
   "metadata": {},
   "outputs": [
    {
     "data": {
      "text/plain": [
       "{'Suicide': 63175,\n",
       " 'Undetermined': 807,\n",
       " 'Accidental': 1639,\n",
       " 'Homicide': 35176,\n",
       " 'NA': 1}"
      ]
     },
     "execution_count": 24,
     "metadata": {},
     "output_type": "execute_result"
    }
   ],
   "source": [
    "intents = [rows[3] for rows in data]\n",
    "races = [rows[7] for rows in data]\n",
    "intents_count = {}\n",
    "for rows in intents:\n",
    "    if rows in intents_count:\n",
    "        intents_count[rows] += 1\n",
    "    else:\n",
    "        intents_count[rows] = 1\n",
    "intents_count                    "
   ]
  },
  {
   "cell_type": "code",
   "execution_count": 25,
   "metadata": {},
   "outputs": [
    {
     "data": {
      "text/plain": [
       "{'Asian/Pacific Islander': 559,\n",
       " 'White': 9147,\n",
       " 'Native American/Native Alaskan': 326,\n",
       " 'Black': 19510,\n",
       " 'Hispanic': 5634}"
      ]
     },
     "execution_count": 25,
     "metadata": {},
     "output_type": "execute_result"
    }
   ],
   "source": [
    "#Homicide_Rate_byRace\n",
    "homicide_race_counts = {}\n",
    "for i,race in enumerate(races):\n",
    "    if race not in homicide_race_counts:\n",
    "        homicide_race_counts[race] = 0\n",
    "    if intents[i] == \"Homicide\":\n",
    "        homicide_race_counts[race] += 1\n",
    "homicide_race_counts "
   ]
  },
  {
   "cell_type": "code",
   "execution_count": 26,
   "metadata": {},
   "outputs": [
    {
     "data": {
      "text/plain": [
       "{'Asian/Pacific Islander': 745,\n",
       " 'White': 55372,\n",
       " 'Native American/Native Alaskan': 555,\n",
       " 'Black': 3332,\n",
       " 'Hispanic': 3171}"
      ]
     },
     "execution_count": 26,
     "metadata": {},
     "output_type": "execute_result"
    }
   ],
   "source": [
    "#Suicide_Rate_byRace\n",
    "suicide_race_counts = {}\n",
    "for i,sex in enumerate(races):\n",
    "    if race not in suicide_race_counts:\n",
    "        suicide_race_counts[race] = 0\n",
    "    if intents[i] == \"Suicide\":\n",
    "        suicide_race_counts[race] += 1\n",
    "suicide_race_counts"
   ]
  },
  {
   "cell_type": "code",
   "execution_count": 36,
   "metadata": {},
   "outputs": [
    {
     "data": {
      "text/plain": [
       "{'M': 29803, 'F': 5373}"
      ]
     },
     "execution_count": 36,
     "metadata": {},
     "output_type": "execute_result"
    }
   ],
   "source": [
    "#Homicide_Rate_by_gender\n",
    "homicide_byGender_counts = {}\n",
    "sexes = [rows[5] for rows in data]\n",
    "for i,sex in enumerate(sexes):\n",
    "    if intents[i] == \"Homicide\":\n",
    "        if sex in homicide_byGender_counts:\n",
    "            homicide_byGender_counts[sex] += 1\n",
    "        else:\n",
    "            homicide_byGender_counts[sex] = 1\n",
    "    else:\n",
    "        next\n",
    "homicide_byGender_counts "
   ]
  },
  {
   "cell_type": "code",
   "execution_count": 37,
   "metadata": {},
   "outputs": [
    {
     "data": {
      "text/plain": [
       "{'M': 54486, 'F': 8689}"
      ]
     },
     "execution_count": 37,
     "metadata": {},
     "output_type": "execute_result"
    }
   ],
   "source": [
    "#Suicide_Rate_by_gender\n",
    "suicide_byGender_counts = {}\n",
    "for i,sex in enumerate(sexes):\n",
    "    if intents[i] == \"Suicide\":\n",
    "        if sex in suicide_byGender_counts:\n",
    "            suicide_byGender_counts[sex] += 1\n",
    "        else:\n",
    "            suicide_byGender_counts[sex] = 1\n",
    "    else:\n",
    "        next \n",
    "suicide_byGender_counts"
   ]
  },
  {
   "cell_type": "markdown",
   "metadata": {
    "collapsed": true
   },
   "source": [
    "### Findings\n",
    "\n",
    "The above data shows that Gun deaths realted homicides disproportionately affext people in the Black and Hispanic category whereas suicides rates are high among whites. Males are affected more in comaparison to Females in both homicides and suicides gun deaths in the US.\n"
   ]
  }
 ],
 "metadata": {
  "kernelspec": {
   "display_name": "Python 3",
   "language": "python",
   "name": "python3"
  },
  "language_info": {
   "codemirror_mode": {
    "name": "ipython",
    "version": 3
   },
   "file_extension": ".py",
   "mimetype": "text/x-python",
   "name": "python",
   "nbconvert_exporter": "python",
   "pygments_lexer": "ipython3",
   "version": "3.6.5"
  }
 },
 "nbformat": 4,
 "nbformat_minor": 1
}
